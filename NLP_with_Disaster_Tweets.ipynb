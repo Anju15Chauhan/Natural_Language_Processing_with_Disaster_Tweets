{
  "nbformat": 4,
  "nbformat_minor": 0,
  "metadata": {
    "colab": {
      "provenance": []
    },
    "kernelspec": {
      "name": "python3",
      "display_name": "Python 3"
    },
    "language_info": {
      "name": "python"
    }
  },
  "cells": [
    {
      "cell_type": "markdown",
      "source": [
        "# **Natural Language Processing with Disaster Tweets**\n",
        "\n"
      ],
      "metadata": {
        "id": "J9yyOzh0rjp6"
      }
    },
    {
      "cell_type": "markdown",
      "source": [
        "# ***1. Import Required Libraries***"
      ],
      "metadata": {
        "id": "DbAqh_9clCwJ"
      }
    },
    {
      "cell_type": "code",
      "execution_count": 1,
      "metadata": {
        "id": "WArbnKfkknRf"
      },
      "outputs": [],
      "source": [
        "import pandas as pd\n",
        "import numpy as np\n",
        "import matplotlib.pyplot as plt\n",
        "import seaborn as sns\n",
        "import re\n",
        "from sklearn.model_selection import train_test_split\n",
        "from sklearn.feature_extraction.text import TfidfVectorizer\n",
        "from sklearn.linear_model import LogisticRegression\n",
        "from sklearn.metrics import f1_score, classification_report\n"
      ]
    },
    {
      "cell_type": "markdown",
      "source": [
        "#  ***Load the Dataset***"
      ],
      "metadata": {
        "id": "DiURoRjelNVg"
      }
    },
    {
      "cell_type": "code",
      "source": [
        "# Load the datasets\n",
        "train_data = pd.read_csv('train.csv')\n",
        "test_data = pd.read_csv('test.csv')\n",
        "\n",
        "# Display basic information\n",
        "print(train_data.info())\n",
        "print(test_data.info())\n"
      ],
      "metadata": {
        "colab": {
          "base_uri": "https://localhost:8080/"
        },
        "id": "ZKaT62n_lKpK",
        "outputId": "fb830bea-08c9-47e2-ef83-2d551001ebc7"
      },
      "execution_count": 2,
      "outputs": [
        {
          "output_type": "stream",
          "name": "stdout",
          "text": [
            "<class 'pandas.core.frame.DataFrame'>\n",
            "RangeIndex: 7613 entries, 0 to 7612\n",
            "Data columns (total 5 columns):\n",
            " #   Column    Non-Null Count  Dtype \n",
            "---  ------    --------------  ----- \n",
            " 0   id        7613 non-null   int64 \n",
            " 1   keyword   7552 non-null   object\n",
            " 2   location  5080 non-null   object\n",
            " 3   text      7613 non-null   object\n",
            " 4   target    7613 non-null   int64 \n",
            "dtypes: int64(2), object(3)\n",
            "memory usage: 297.5+ KB\n",
            "None\n",
            "<class 'pandas.core.frame.DataFrame'>\n",
            "RangeIndex: 3263 entries, 0 to 3262\n",
            "Data columns (total 4 columns):\n",
            " #   Column    Non-Null Count  Dtype \n",
            "---  ------    --------------  ----- \n",
            " 0   id        3263 non-null   int64 \n",
            " 1   keyword   3237 non-null   object\n",
            " 2   location  2158 non-null   object\n",
            " 3   text      3263 non-null   object\n",
            "dtypes: int64(1), object(3)\n",
            "memory usage: 102.1+ KB\n",
            "None\n"
          ]
        }
      ]
    },
    {
      "cell_type": "markdown",
      "source": [
        "#  ***Explore Label Distribution***"
      ],
      "metadata": {
        "id": "_z0Fuz4fldPh"
      }
    },
    {
      "cell_type": "code",
      "source": [
        "# Analyze the target label distribution\n",
        "label_distribution = train_data['target'].value_counts()\n",
        "\n",
        "# Plot the distribution\n",
        "plt.figure(figsize=(8, 5))\n",
        "sns.barplot(x=label_distribution.index, y=label_distribution.values, palette=\"viridis\")\n",
        "plt.title(\"Distribution of Target Labels\", fontsize=16)\n",
        "plt.xlabel(\"Target Label (0 = Not Disaster, 1 = Disaster)\", fontsize=14)\n",
        "plt.ylabel(\"Count\", fontsize=14)\n",
        "plt.xticks(ticks=[0, 1], labels=['Not Disaster', 'Disaster'], fontsize=12)\n",
        "plt.show()\n"
      ],
      "metadata": {
        "colab": {
          "base_uri": "https://localhost:8080/",
          "height": 585
        },
        "id": "sLunc6WqlY0L",
        "outputId": "fe0e4205-a13d-407d-c06d-43ea44fe1aeb"
      },
      "execution_count": 3,
      "outputs": [
        {
          "output_type": "stream",
          "name": "stderr",
          "text": [
            "<ipython-input-3-5d13a64da6c7>:6: FutureWarning: \n",
            "\n",
            "Passing `palette` without assigning `hue` is deprecated and will be removed in v0.14.0. Assign the `x` variable to `hue` and set `legend=False` for the same effect.\n",
            "\n",
            "  sns.barplot(x=label_distribution.index, y=label_distribution.values, palette=\"viridis\")\n"
          ]
        },
        {
          "output_type": "display_data",
          "data": {
            "text/plain": [
              "<Figure size 800x500 with 1 Axes>"
            ],
            "image/png": "[encoded data removed]"
          },
          "metadata": {}
        }
      ]
    },
    {
      "cell_type": "markdown",
      "source": [
        "# ***Preprocess the Text Data***"
      ],
      "metadata": {
        "id": "czO1YOiNltv_"
      }
    },
    {
      "cell_type": "code",
      "source": [
        "# Function to clean text\n",
        "def clean_text(text):\n",
        "    text = re.sub(r'http\\S+', '', text)  # Remove URLs\n",
        "    text = re.sub(r'@\\w+', '', text)    # Remove mentions\n",
        "    text = re.sub(r'#', '', text)       # Remove hashtags\n",
        "    text = re.sub(r'[^a-zA-Z\\s]', '', text)  # Remove special characters\n",
        "    text = text.lower()  # Convert to lowercase\n",
        "    text = text.strip()  # Remove leading/trailing whitespace\n",
        "    return text\n",
        "\n",
        "# Apply the function to the text column\n",
        "train_data['cleaned_text'] = train_data['text'].apply(clean_text)\n",
        "test_data['cleaned_text'] = test_data['text'].apply(clean_text)\n",
        "\n",
        "# Display a few cleaned examples\n",
        "print(train_data[['text', 'cleaned_text']].head())\n"
      ],
      "metadata": {
        "colab": {
          "base_uri": "https://localhost:8080/"
        },
        "id": "mnKe2yLBljGE",
        "outputId": "7cc83cf8-92ea-46e9-c598-f0589fd8cab1"
      },
      "execution_count": 4,
      "outputs": [
        {
          "output_type": "stream",
          "name": "stdout",
          "text": [
            "                                                text  \\\n",
            "0  Our Deeds are the Reason of this #earthquake M...   \n",
            "1             Forest fire near La Ronge Sask. Canada   \n",
            "2  All residents asked to 'shelter in place' are ...   \n",
            "3  13,000 people receive #wildfires evacuation or...   \n",
            "4  Just got sent this photo from Ruby #Alaska as ...   \n",
            "\n",
            "                                        cleaned_text  \n",
            "0  our deeds are the reason of this earthquake ma...  \n",
            "1              forest fire near la ronge sask canada  \n",
            "2  all residents asked to shelter in place are be...  \n",
            "3  people receive wildfires evacuation orders in ...  \n",
            "4  just got sent this photo from ruby alaska as s...  \n"
          ]
        }
      ]
    },
    {
      "cell_type": "markdown",
      "source": [
        "#  ***Prepare Data for Modeling***"
      ],
      "metadata": {
        "id": "LCmZQtmnl6xC"
      }
    },
    {
      "cell_type": "code",
      "source": [
        "# Split data into training and validation sets\n",
        "X_train, X_val, y_train, y_val = train_test_split(train_data['cleaned_text'], train_data['target'], test_size=0.2, random_state=42)\n",
        "\n",
        "# Initialize TF-IDF Vectorizer\n",
        "tfidf = TfidfVectorizer(max_features=5000)\n",
        "\n",
        "# Transform text data\n",
        "X_train_tfidf = tfidf.fit_transform(X_train)\n",
        "X_val_tfidf = tfidf.transform(X_val)\n",
        "X_test_tfidf = tfidf.transform(test_data['cleaned_text'])\n"
      ],
      "metadata": {
        "id": "_bXqtzIklzfM"
      },
      "execution_count": 5,
      "outputs": []
    },
    {
      "cell_type": "markdown",
      "source": [
        "# ***Train a Basic Model***"
      ],
      "metadata": {
        "id": "AM5Jgv_VmDrw"
      }
    },
    {
      "cell_type": "code",
      "source": [
        "# Initialize Logistic Regression\n",
        "model = LogisticRegression()\n",
        "\n",
        "# Train the model\n",
        "model.fit(X_train_tfidf, y_train)\n",
        "\n",
        "# Make predictions\n",
        "y_pred = model.predict(X_val_tfidf)\n",
        "\n",
        "# Evaluate the model\n",
        "print(\"F1 Score:\", f1_score(y_val, y_pred))\n",
        "print(classification_report(y_val, y_pred))\n"
      ],
      "metadata": {
        "colab": {
          "base_uri": "https://localhost:8080/"
        },
        "id": "zcOO84qBmAV9",
        "outputId": "e98719d4-712b-437c-956d-a9b53e81f98b"
      },
      "execution_count": 6,
      "outputs": [
        {
          "output_type": "stream",
          "name": "stdout",
          "text": [
            "F1 Score: 0.7552213868003341\n",
            "              precision    recall  f1-score   support\n",
            "\n",
            "           0       0.80      0.89      0.84       874\n",
            "           1       0.82      0.70      0.76       649\n",
            "\n",
            "    accuracy                           0.81      1523\n",
            "   macro avg       0.81      0.79      0.80      1523\n",
            "weighted avg       0.81      0.81      0.80      1523\n",
            "\n"
          ]
        }
      ]
    },
    {
      "cell_type": "markdown",
      "source": [
        "# ***Make Predictions for Test Data***"
      ],
      "metadata": {
        "id": "2MhNltatmLU6"
      }
    },
    {
      "cell_type": "code",
      "source": [
        "# Predict for test set\n",
        "test_predictions = model.predict(X_test_tfidf)\n",
        "\n",
        "# Prepare the submission file\n",
        "submission = pd.DataFrame({'id': test_data['id'], 'target': test_predictions})\n",
        "submission.to_csv('submission.csv', index=False)\n"
      ],
      "metadata": {
        "id": "S7rwnnhemIFn"
      },
      "execution_count": 7,
      "outputs": []
    },
    {
      "cell_type": "code",
      "source": [
        "# export submission file\n",
        "submission.to_csv('submission.csv', index=False)"
      ],
      "metadata": {
        "id": "-s5hQm_emQHT"
      },
      "execution_count": 8,
      "outputs": []
    },
    {
      "cell_type": "markdown",
      "source": [
        "# **2. Sentiment Analysis with** TextBlob"
      ],
      "metadata": {
        "id": "jOs8GxI6mnpW"
      }
    },
    {
      "cell_type": "code",
      "source": [
        "from textblob import TextBlob\n",
        "\n",
        "# Function to get sentiment polarity\n",
        "def get_sentiment(text):\n",
        "    analysis = TextBlob(text)\n",
        "    return analysis.sentiment.polarity  # Polarity ranges from -1 (negative) to 1 (positive)\n",
        "\n",
        "# Apply sentiment analysis on the cleaned text\n",
        "train_data['sentiment_polarity'] = train_data['cleaned_text'].apply(get_sentiment)\n",
        "test_data['sentiment_polarity'] = test_data['cleaned_text'].apply(get_sentiment)\n",
        "\n",
        "# Display some examples\n",
        "print(train_data[['cleaned_text', 'sentiment_polarity']].head())\n"
      ],
      "metadata": {
        "colab": {
          "base_uri": "https://localhost:8080/"
        },
        "id": "Fzcgj7Ulme7N",
        "outputId": "4eeba0f1-bbad-4dbf-f493-4f19f46914ad"
      },
      "execution_count": 9,
      "outputs": [
        {
          "output_type": "stream",
          "name": "stdout",
          "text": [
            "                                        cleaned_text  sentiment_polarity\n",
            "0  our deeds are the reason of this earthquake ma...             0.00000\n",
            "1              forest fire near la ronge sask canada             0.10000\n",
            "2  all residents asked to shelter in place are be...            -0.01875\n",
            "3  people receive wildfires evacuation orders in ...             0.00000\n",
            "4  just got sent this photo from ruby alaska as s...             0.00000\n"
          ]
        }
      ]
    },
    {
      "cell_type": "markdown",
      "source": [
        "# **Categorize Sentiment**-\n",
        "\n",
        "### ***Convert the polarity into discrete categories: Positive, Negative, and Neutral.***"
      ],
      "metadata": {
        "id": "N5pup2YQnMDr"
      }
    },
    {
      "cell_type": "code",
      "source": [
        "# Function to categorize sentiment\n",
        "def categorize_sentiment(polarity):\n",
        "    if polarity > 0:\n",
        "        return 'Positive'\n",
        "    elif polarity < 0:\n",
        "        return 'Negative'\n",
        "    else:\n",
        "        return 'Neutral'\n",
        "\n",
        "# Apply categorization\n",
        "train_data['sentiment_category'] = train_data['sentiment_polarity'].apply(categorize_sentiment)\n",
        "test_data['sentiment_category'] = test_data['sentiment_polarity'].apply(categorize_sentiment)\n",
        "\n",
        "# Display sentiment categories\n",
        "print(train_data[['cleaned_text', 'sentiment_category']].head())\n"
      ],
      "metadata": {
        "colab": {
          "base_uri": "https://localhost:8080/"
        },
        "id": "nbXgnmVznGT-",
        "outputId": "1533735c-0d3d-43c4-c07b-c11594f3f007"
      },
      "execution_count": 10,
      "outputs": [
        {
          "output_type": "stream",
          "name": "stdout",
          "text": [
            "                                        cleaned_text sentiment_category\n",
            "0  our deeds are the reason of this earthquake ma...            Neutral\n",
            "1              forest fire near la ronge sask canada           Positive\n",
            "2  all residents asked to shelter in place are be...           Negative\n",
            "3  people receive wildfires evacuation orders in ...            Neutral\n",
            "4  just got sent this photo from ruby alaska as s...            Neutral\n"
          ]
        }
      ]
    },
    {
      "cell_type": "markdown",
      "source": [
        "#  **Visualize Sentiment Distribution**"
      ],
      "metadata": {
        "id": "fLXSkKc1nfjj"
      }
    },
    {
      "cell_type": "code",
      "source": [
        "# Plot sentiment distribution\n",
        "plt.figure(figsize=(10, 6))\n",
        "sns.countplot(data=train_data, x='sentiment_category', hue='target', palette='viridis')\n",
        "plt.title(\"Sentiment Distribution by Disaster Category\", fontsize=16)\n",
        "plt.xlabel(\"Sentiment Category\", fontsize=14)\n",
        "plt.ylabel(\"Count\", fontsize=14)\n",
        "plt.legend(title=\"Disaster (1) vs Non-Disaster (0)\", loc='upper right')\n",
        "plt.show()\n"
      ],
      "metadata": {
        "colab": {
          "base_uri": "https://localhost:8080/",
          "height": 571
        },
        "id": "Qqkmz7pKncJR",
        "outputId": "1744a599-e09a-45e1-df1b-624404dda1ef"
      },
      "execution_count": 11,
      "outputs": [
        {
          "output_type": "display_data",
          "data": {
            "text/plain": [
              "<Figure size 1000x600 with 1 Axes>"
            ],
            "image/png": "[encoded data removed]"
          },
          "metadata": {}
        }
      ]
    },
    {
      "cell_type": "markdown",
      "source": [
        "# **Incorporate Sentiment as a Feature**"
      ],
      "metadata": {
        "id": "PnvUm1yUnprJ"
      }
    },
    {
      "cell_type": "code",
      "source": [
        "!pip install -q scikit-learn pandas numpy\n",
        "\n",
        "# Assuming 'train_data' contains 'cleaned_text', 'target', and 'sentiment_polarity' columns\n",
        "# Assuming 'test_data' contains 'cleaned_text' and 'sentiment_polarity' columns\n",
        "\n",
        "# Split data into training and validation sets\n",
        "X = train_data['cleaned_text']\n",
        "y = train_data['target']\n",
        "X_train, X_val, y_train, y_val = train_test_split(X, y, test_size=0.2, random_state=42)\n",
        "\n",
        "# Create TF-IDF vectorizer\n",
        "tfidf = TfidfVectorizer(max_features=5000)  # Adjust max_features as needed\n",
        "\n",
        "# Create and train Logistic Regression model with sentiment features\n",
        "model = LogisticRegression()\n",
        "\n",
        "# 1. Transform text data using TF-IDF\n",
        "X_train_text = tfidf.fit_transform(X_train)\n",
        "X_val_text = tfidf.transform(X_val)\n",
        "\n",
        "# 2. Get sentiment polarity for training and validation sets\n",
        "X_train_sentiment = train_data.loc[X_train.index, 'sentiment_polarity'].values.reshape(-1, 1)\n",
        "X_val_sentiment = train_data.loc[X_val.index, 'sentiment_polarity'].values.reshape(-1, 1)\n",
        "\n",
        "# 3. Combine text features and sentiment features\n",
        "X_train_combined = np.hstack((X_train_text.toarray(), X_train_sentiment))\n",
        "X_val_combined = np.hstack((X_val_text.toarray(), X_val_sentiment))\n",
        "\n",
        "# 4. Train the model\n",
        "model.fit(X_train_combined, y_train)\n",
        "\n",
        "# 5. Make predictions and evaluate\n",
        "y_pred = model.predict(X_val_combined)\n",
        "print(\"F1 Score with Sentiment Features:\", f1_score(y_val, y_pred))\n",
        "print(classification_report(y_val, y_pred))\n",
        "\n",
        "# Now you can apply this to the test data:\n",
        "X_test_text = tfidf.transform(test_data['cleaned_text'])\n",
        "X_test_sentiment = test_data['sentiment_polarity'].values.reshape(-1, 1)\n",
        "X_test_combined = np.hstack((X_test_text.toarray(), X_test_sentiment))\n",
        "\n",
        "# Make predictions on the test data\n",
        "test_predictions = model.predict(X_test_combined)\n"
      ],
      "metadata": {
        "colab": {
          "base_uri": "https://localhost:8080/"
        },
        "id": "Xntr5Ig2nv4I",
        "outputId": "bd6378be-7074-4fc2-9de4-b59add51c082"
      },
      "execution_count": 16,
      "outputs": [
        {
          "output_type": "stream",
          "name": "stdout",
          "text": [
            "F1 Score with Sentiment Features: 0.7562604340567612\n",
            "              precision    recall  f1-score   support\n",
            "\n",
            "           0       0.80      0.89      0.84       874\n",
            "           1       0.83      0.70      0.76       649\n",
            "\n",
            "    accuracy                           0.81      1523\n",
            "   macro avg       0.81      0.79      0.80      1523\n",
            "weighted avg       0.81      0.81      0.81      1523\n",
            "\n"
          ]
        }
      ]
    },
    {
      "cell_type": "markdown",
      "source": [
        "# ***3. Disaster Tweets Classification***"
      ],
      "metadata": {
        "id": "fuRlMtxDpATm"
      }
    },
    {
      "cell_type": "code",
      "source": [
        "# Function to clean text\n",
        "def clean_text(text):\n",
        "    text = re.sub(r'http\\S+', '', text)  # Remove URLs\n",
        "    text = re.sub(r'@\\w+', '', text)    # Remove mentions\n",
        "    text = re.sub(r'#', '', text)       # Remove hashtags\n",
        "    text = re.sub(r'[^a-zA-Z\\s]', '', text)  # Remove special characters\n",
        "    text = text.lower()  # Convert to lowercase\n",
        "    return text.strip()\n",
        "\n",
        "# Apply cleaning to the text\n",
        "train_data['cleaned_text'] = train_data['text'].apply(clean_text)\n",
        "test_data['cleaned_text'] = test_data['text'].apply(clean_text)\n"
      ],
      "metadata": {
        "id": "a-94j6CVoazx"
      },
      "execution_count": 17,
      "outputs": []
    },
    {
      "cell_type": "markdown",
      "source": [
        "# ***Split the Data***"
      ],
      "metadata": {
        "id": "4wLR9C-Mp70_"
      }
    },
    {
      "cell_type": "code",
      "source": [
        "# Split into train and validation sets\n",
        "X_train, X_val, y_train, y_val = train_test_split(\n",
        "    train_data['cleaned_text'], train_data['target'], test_size=0.2, random_state=42\n",
        ")\n"
      ],
      "metadata": {
        "id": "ER7bQOSxpw7n"
      },
      "execution_count": 18,
      "outputs": []
    },
    {
      "cell_type": "markdown",
      "source": [
        "# **Convert Text to Numerical Features**"
      ],
      "metadata": {
        "id": "kde2bK2kqGgf"
      }
    },
    {
      "cell_type": "code",
      "source": [
        "# Initialize TF-IDF Vectorizer\n",
        "tfidf = TfidfVectorizer(max_features=5000)\n",
        "\n",
        "# Transform training and validation data\n",
        "X_train_tfidf = tfidf.fit_transform(X_train)\n",
        "X_val_tfidf = tfidf.transform(X_val)\n",
        "X_test_tfidf = tfidf.transform(test_data['cleaned_text'])\n"
      ],
      "metadata": {
        "id": "LeUTvMB-qEIn"
      },
      "execution_count": 19,
      "outputs": []
    },
    {
      "cell_type": "markdown",
      "source": [
        "# **Train the Model**"
      ],
      "metadata": {
        "id": "0JwLISQsqNbk"
      }
    },
    {
      "cell_type": "code",
      "source": [
        "# Initialize the model\n",
        "model = LogisticRegression()\n",
        "\n",
        "# Train the model\n",
        "model.fit(X_train_tfidf, y_train)\n",
        "\n",
        "# Predict on validation data\n",
        "y_pred_val = model.predict(X_val_tfidf)\n",
        "\n",
        "# Evaluate the model\n",
        "print(\"F1 Score (Validation):\", f1_score(y_val, y_pred_val))\n",
        "print(classification_report(y_val, y_pred_val))\n"
      ],
      "metadata": {
        "colab": {
          "base_uri": "https://localhost:8080/"
        },
        "id": "EkChPHY0qLkH",
        "outputId": "680fe57d-30c8-40f9-aa60-96f97827d22a"
      },
      "execution_count": 20,
      "outputs": [
        {
          "output_type": "stream",
          "name": "stdout",
          "text": [
            "F1 Score (Validation): 0.7552213868003341\n",
            "              precision    recall  f1-score   support\n",
            "\n",
            "           0       0.80      0.89      0.84       874\n",
            "           1       0.82      0.70      0.76       649\n",
            "\n",
            "    accuracy                           0.81      1523\n",
            "   macro avg       0.81      0.79      0.80      1523\n",
            "weighted avg       0.81      0.81      0.80      1523\n",
            "\n"
          ]
        }
      ]
    },
    {
      "cell_type": "markdown",
      "source": [
        "# ***Predict on Test Data***"
      ],
      "metadata": {
        "id": "FR5x4e4Fqd7B"
      }
    },
    {
      "cell_type": "code",
      "source": [
        "# Predict on the test dataset\n",
        "test_predictions = model.predict(X_test_tfidf)\n",
        "\n",
        "# Prepare the submission file\n",
        "submission = pd.DataFrame({'id': test_data['id'], 'target': test_predictions})\n",
        "submission.to_csv('submission.csv', index=False)\n",
        "print(\"Submission file saved as 'submission.csv'.\")\n"
      ],
      "metadata": {
        "colab": {
          "base_uri": "https://localhost:8080/"
        },
        "id": "AVaVQEzKqUMA",
        "outputId": "486f2f0a-a0f1-49ac-c1a4-b3338d058237"
      },
      "execution_count": 21,
      "outputs": [
        {
          "output_type": "stream",
          "name": "stdout",
          "text": [
            "Submission file saved as 'submission.csv'.\n"
          ]
        }
      ]
    },
    {
      "cell_type": "code",
      "source": [],
      "metadata": {
        "id": "Ygm4mfBYqh-f"
      },
      "execution_count": null,
      "outputs": []
    }
  ]
}